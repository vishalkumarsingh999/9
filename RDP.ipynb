{
  "nbformat": 4,
  "nbformat_minor": 0,
  "metadata": {
    "colab": {
      "name": "RDP.ipynb",
      "provenance": [],
      "authorship_tag": "ABX9TyPK5SWiq9zumLFgQrGAD9M0",
      "include_colab_link": true
    },
    "kernelspec": {
      "name": "python3",
      "display_name": "Python 3"
    }
  },
  "cells": [
    {
      "cell_type": "markdown",
      "metadata": {
        "id": "view-in-github",
        "colab_type": "text"
      },
      "source": [
        "<a href=\"https://colab.research.google.com/github/vishalkumarsingh999/9/blob/main/RDP.ipynb\" target=\"_parent\"><img src=\"https://colab.research.google.com/assets/colab-badge.svg\" alt=\"Open In Colab\"/></a>"
      ]
    },
    {
      "cell_type": "code",
      "metadata": {
        "colab": {
          "base_uri": "https://localhost:8080/"
        },
        "id": "adfRK8DlgphL",
        "outputId": "bb69d22a-a35c-4cf7-c9ba-05194eac1667"
      },
      "source": [
        "! wget https://raw.githubusercontent.com/alok676875/RDP/main/RDP.sh &> /dev/null\r\n",
        "! chmod +x RDP.sh\r\n",
        "! ./RDP.sh"
      ],
      "execution_count": 2,
      "outputs": [
        {
          "output_type": "stream",
          "text": [
            "Installing RDP Be Patience... \n",
            "Setup Complete \n",
            "Check https://remotedesktop.google.com/headless  Copy Command Of Debian Linux And Paste Down\n",
            "Paste Here: DISPLAY= /opt/google/chrome-remote-desktop/start-host --code=\"4/0AY0e-g5QRPysrLt6fxHUYQgnJGrePPNMfroTqd1tlfzwunbktjhBPB4_EPtUuNZGRT0rdA\" --redirect-url=\"https://remotedesktop.google.com/_/oauthredirect\" --name=$(hostname)\n",
            "Enter a PIN of at least six digits: \n",
            "Enter the same PIN again: \n",
            "[0131/130216.663807:ERROR:cert_verify_proc_builtin.cc(559)] No net_fetcher for performing AIA chasing.\n",
            "[0131/130216.738585:WARNING:host_config.cc(54)] Failed to read /home/ALOK/.config/chrome-remote-desktop/host#9d49d101c039b59495599251e7a0d430.json\n",
            "[0131/130216.825292:ERROR:cert_verify_proc_builtin.cc(559)] No net_fetcher for performing AIA chasing.\n",
            "[0131/130218.038282:INFO:daemon_controller_delegate_linux.cc(99)] 2021-01-31 13:02:18,026:INFO:User 'ALOK' is already a member of 'chrome-remote-desktop'.\n",
            "\n",
            "[0131/130221.177429:INFO:daemon_controller_delegate_linux.cc(99)] [0131/130218.155586:INFO:remoting_user_session.cc(754)] Daemon process started in the background, logging to '/tmp/chrome_remote_desktop_20210131_130218_TFA5Lg'\n",
            "Using host_id: 4de0ab7c-c32c-4346-ac5e-e6ee2fa4983f\n",
            "Launching X server and X session.\n",
            "Starting Xvfb on display :20\n",
            "X server is active.\n",
            "Launching X session: ['/bin/sh', '/etc/chrome-remote-desktop-session']\n",
            "Launching host process\n",
            "['/opt/google/chrome-remote-desktop/chrome-remote-desktop-host', '--host-config=-', '--audio-pipe-name=/home/ALOK/.config/chrome-remote-desktop/pulseaudio#9d49d101c0/fifo_output', '--server-supports-exact-resize', '--ssh-auth-sockname=/tmp/chromoting.ALOK.ssh_auth_sock', '--signal-parent']\n",
            "Host ready to receive connections.\n",
            "Log file: /tmp/chrome_remote_desktop_20210131_130218_TFA5Lg\n",
            "\n",
            "Check https://remotedesktop.google.com/access/ \n",
            "\n",
            "\n",
            "\n",
            "Upgrade Completed "
          ],
          "name": "stdout"
        }
      ]
    }
  ]
}